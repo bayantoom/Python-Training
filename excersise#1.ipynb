{
 "cells": [
  {
   "cell_type": "markdown",
   "metadata": {},
   "source": [
    "<div style=\"display: flex; align-items: center;\">\n",
    "    <img src=\"../img/es_logo.png\" alt=\"title\" style=\"margin-right: 20px;\">\n",
    "    <h1>Python Syntax and Data Types</h1>\n",
    "</div>"
   ]
  },
  {
   "cell_type": "markdown",
   "metadata": {},
   "source": [
    "Complete the code to print out Hello Python! in a formatted string.\n"
   ]
  },
  {
   "cell_type": "code",
   "execution_count": null,
   "metadata": {},
   "outputs": [
    {
     "name": "stdout",
     "output_type": "stream",
     "text": [
      "Hello Python\n"
     ]
    }
   ],
   "source": [
    "message = \"Python\"\n",
    "Greeting = f\"Hello {message}\"\n",
    "print(Greeting)"
   ]
  },
  {
   "cell_type": "markdown",
   "metadata": {},
   "source": [
    "Correct the following code to:\n",
    "1. Perform the arithmetic operation on a and b.\n",
    "2. Perform concatenation on a and b."
   ]
  },
  {
   "cell_type": "code",
   "execution_count": null,
   "metadata": {},
   "outputs": [
    {
     "name": "stdout",
     "output_type": "stream",
     "text": [
      "15\n",
      "510\n"
     ]
    }
   ],
   "source": [
    "a = 5\n",
    "b = \"10\"\n",
    "\n",
    "# perform addition expected output is 15\n",
    "addition = int(a) + int(b)\n",
    "print(addition)\n",
    "\n",
    "# perform concatenation expected output is 510\n",
    "concatenation = str(a) + b\n",
    "print(concatenation)"
   ]
  },
  {
   "cell_type": "markdown",
   "metadata": {},
   "source": [
    "Complete the code to extract and print out the domain name from the email address."
   ]
  },
  {
   "cell_type": "code",
   "execution_count": null,
   "metadata": {},
   "outputs": [
    {
     "name": "stdout",
     "output_type": "stream",
     "text": [
      "@estarta.com\n"
     ]
    }
   ],
   "source": [
    "email = \"python_dev@estarta.com\"\n",
    "\n",
    "# extract domain from email\n",
    "domain = email[-12:]\n",
    "print(domain)"
   ]
  },
  {
   "cell_type": "markdown",
   "metadata": {},
   "source": [
    "Perform the following operations on the \"Cars\" list:\n",
    "1. Add \"Honda\" to the list.\n",
    "2. Replace the second element with \"Ford\".\n",
    "3. Remove \"Toyota\" from the list.\n",
    "4. Check if \"Subaru\" is in the list."
   ]
  },
  {
   "cell_type": "code",
   "execution_count": null,
   "metadata": {},
   "outputs": [
    {
     "name": "stdout",
     "output_type": "stream",
     "text": [
      "['Toyota', 'Mercedes', 'BMW', 'Jeep', 'Honda']\n",
      "['Toyota', 'Ford', 'BMW', 'Jeep', 'Honda']\n",
      "['Ford', 'BMW', 'Jeep', 'Honda']\n",
      "True\n"
     ]
    }
   ],
   "source": [
    "cars = [\"Toyota\", \"Mercedes\", \"BMW\", \"Jeep\"]\n",
    "\n",
    "# add \"Honda\" to the list\n",
    "cars.append(\"Honda\")\n",
    "print(cars)\n",
    "\n",
    "# replace the second element with \"Ford\"\n",
    "cars[1]=\"Ford\"\n",
    "print(cars)\n",
    "\n",
    "# remove Toyota from the list\n",
    "cars.remove(\"Toyota\")\n",
    "print(cars)\n",
    "\n",
    "# print True if Subaru is in the list else False\n",
    "if \"Subaru\" in cars:\n",
    "    print(True)\n",
    "else:\n",
    "    print(False)"
   ]
  },
  {
   "cell_type": "markdown",
   "metadata": {},
   "source": [
    "Complete the code to do the following:\n",
    "1. Create a new dictionary with the following key-value pairs: \"name\": \"Ahmad\", \"age\": 25, \"occupation\": \"doctor\", \"country\": \"Jordan\"\n",
    "2. Add a new key-value pair with \"city\": \"Amman\"\n",
    "3. Update the occupation to \"Surgeon\"\n",
    "4. Remove the \"country\" key-value pair from the dictionary.\n",
    "5. print out the updated dictionary."
   ]
  },
  {
   "cell_type": "code",
   "execution_count": null,
   "metadata": {},
   "outputs": [
    {
     "name": "stdout",
     "output_type": "stream",
     "text": [
      "{'name': 'Ahmad', 'age': 25, 'occupation': 'doctor', 'country': 'Jordan'}\n",
      "{'name': 'Ahmad', 'age': 25, 'occupation': 'doctor', 'country': 'Jordan', 'city': 'Amman'}\n",
      "{'name': 'Ahmad', 'age': 25, 'occupation': 'Surgeon', 'country': 'Jordan', 'city': 'Amman'}\n",
      "{'name': 'Ahmad', 'age': 25, 'occupation': 'Surgeon', 'city': 'Amman'}\n"
     ]
    }
   ],
   "source": [
    "\n",
    "# create dictionary\n",
    "person = {\"name\": \"Ahmad\", \"age\": 25, \"occupation\": \"doctor\", \"country\": \"Jordan\"}\n",
    "print(person)\n",
    "\n",
    "# add city: Amman\n",
    "person[\"city\"]= \"Amman\"\n",
    "print(person)\n",
    "\n",
    "# update occupation to \"Surgeon\"\n",
    "person[\"occupation\"]=\"Surgeon\"\n",
    "print(person)\n",
    "\n",
    "# remove country key-value \n",
    "del person[\"country\"]\n",
    "print(person)"
   ]
  },
  {
   "cell_type": "markdown",
   "metadata": {},
   "source": [
    "Complete the folowing opertasions on the \"numbers\" set:\n",
    "1. Check if 4 is in the set.\n",
    "2. Add 5 to the set.\n",
    "3. Remove 3 from the set.\n",
    "4. Try to add a duplicate element to the set.\n",
    "5. Create a new set that contains numbers from in the range of m+1 to m+10, where m is the maximum number in the \"numbers\" set.\n",
    "6. Create a set that is the union of the two sets."
   ]
  },
  {
   "cell_type": "code",
   "execution_count": null,
   "metadata": {},
   "outputs": [
    {
     "name": "stdout",
     "output_type": "stream",
     "text": [
      "{1, 2, 3, 5, 7, 8, 9, 16}\n",
      "False\n",
      "{1, 2, 3, 5, 7, 8, 9, 16}\n",
      "{1, 2, 5, 7, 8, 9, 16}\n",
      "{17, 18, 19, 20, 21, 22, 23, 24, 25}\n",
      "{1, 2, 5, 7, 8, 9, 16, 17, 18, 19, 20, 21, 22, 23, 24, 25}\n"
     ]
    }
   ],
   "source": [
    "numbers = {2, 5, 16, 8, 7, 9, 3, 1}\n",
    "print (numbers)\n",
    "\n",
    "# check if 4 is in the set\n",
    "print(4 in numbers)\n",
    "\n",
    "# add 5 to the set\n",
    "numbers.add(5)\n",
    "print (numbers)\n",
    "\n",
    "# remove 3 from the set\n",
    "numbers.remove(3)\n",
    "\n",
    "# try to add duplicate element to the set\n",
    "numbers.add(5)\n",
    "print(numbers)\n",
    "\n",
    "# new set containing numbers from m+1 to m+10 range \n",
    "m= max(numbers)\n",
    "new_set= set(range(m+1,m+10))\n",
    "print(new_set)\n",
    "\n",
    "# union set \n",
    "union_set= numbers.union(new_set)\n",
    "print(union_set)"
   ]
  }
 ],
 "metadata": {
  "language_info": {
   "name": "python"
  }
 },
 "nbformat": 4,
 "nbformat_minor": 2
}
